{
 "cells": [
  {
   "cell_type": "code",
   "execution_count": 12,
   "id": "18bc5646-ad16-4f7d-a1ac-0eb3100d9ff9",
   "metadata": {},
   "outputs": [],
   "source": [
    "import json"
   ]
  },
  {
   "cell_type": "code",
   "execution_count": 1,
   "id": "56354115-24d8-4f93-9c0c-139934f3fe71",
   "metadata": {},
   "outputs": [],
   "source": [
    "path = '/home/data2/kbh/WIDER_FACE/wider_face_split/wider_face_train_bbx_gt.txt'"
   ]
  },
  {
   "cell_type": "code",
   "execution_count": 26,
   "id": "84a57805-a84f-40a3-86ca-2b552d3540c1",
   "metadata": {},
   "outputs": [],
   "source": [
    "state_read = 0\n",
    "cnt = 0\n",
    "\n",
    "with open(path, 'r') as f:\n",
    "    for line in f:\n",
    "        prev_line = line \n",
    "        if state_read == 0 : \n",
    "            name = line\n",
    "            state_read = 1\n",
    "        elif state_read == 1 :\n",
    "            #print(prev_line)\n",
    "            num_face = int(line)\n",
    "            num2read = num_face\n",
    "            if num_face == 0 :\n",
    "                state_read = -1\n",
    "            else :\n",
    "                state_read = 2\n",
    "        elif state_read == -1 :\n",
    "            pass\n",
    "        elif state_read == 2 :\n",
    "            anno = line\n",
    "            num2read-=1\n",
    "            if num2read == 0 :\n",
    "                state_read = 0\n",
    "            anno = anno.split()\n",
    "            #print(anno)\n",
    "            x1 = int(anno[0])\n",
    "            y1 = int(anno[1])\n",
    "            w = int(anno[2])\n",
    "            h = int(anno[3])\n",
    "            blur = int(anno[4])\n",
    "            expression = int(anno[5])\n",
    "            illumination = int(anno[6])\n",
    "            invalid = int(anno[7])\n",
    "            occlusion = int(anno[8])\n",
    "            pose = int(anno[9])\n",
    "        else :\n",
    "            raise Exception('Unknown state_read : ' + str(state_read))\n",
    "            \n",
    "        #cnt+=1\n",
    "        #if cnt > 100 :\n",
    "        #    break\n"
   ]
  },
  {
   "cell_type": "code",
   "execution_count": null,
   "id": "f353e7d3-1a6d-4506-8002-a7ab4c8d5228",
   "metadata": {},
   "outputs": [],
   "source": []
  }
 ],
 "metadata": {
  "kernelspec": {
   "display_name": "Python 3 (ipykernel)",
   "language": "python",
   "name": "python3"
  },
  "language_info": {
   "codemirror_mode": {
    "name": "ipython",
    "version": 3
   },
   "file_extension": ".py",
   "mimetype": "text/x-python",
   "name": "python",
   "nbconvert_exporter": "python",
   "pygments_lexer": "ipython3",
   "version": "3.8.10"
  }
 },
 "nbformat": 4,
 "nbformat_minor": 5
}
