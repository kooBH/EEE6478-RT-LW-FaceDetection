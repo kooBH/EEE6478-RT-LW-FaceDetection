{
 "cells": [
  {
   "cell_type": "code",
   "execution_count": 222,
   "id": "f43638ce-1e32-4d89-b432-c2e766023a4b",
   "metadata": {},
   "outputs": [],
   "source": [
    "from scipy import spatial\n",
    "import torch\n",
    "import os,glob\n",
    "import numpy as np"
   ]
  },
  {
   "cell_type": "code",
   "execution_count": 391,
   "id": "a34ee417-e608-4ffc-9c2c-b465d3b40274",
   "metadata": {},
   "outputs": [
    {
     "name": "stdout",
     "output_type": "stream",
     "text": [
      "8940\n",
      "dict_keys(['kimjaebin', 'koobonhyeok', 'leesanghoon', 'leeseunghyeon', 'noseonghoon', 'jeongsaeyoung', 'joonhyeong', 'joonyong', 'jungwook', 'kangminseok', 'koohyaejin', 'parkjinyoung', 'parksanghoon', 'yoohogeon'])\n"
     ]
    }
   ],
   "source": [
    "root = \"../DB/\"\n",
    "\n",
    "list_target = glob.glob(os.path.join(root,\"cosface\",\"*\",\"*_*.npy\"))\n",
    "print(len(list_target))\n",
    "\n",
    "dict_target = {}\n",
    "for path in list_target :\n",
    "    name = path.split('/')[-1]\n",
    "    id = name.split('_')[0]\n",
    "    if id in dict_target : \n",
    "        dict_target[id].append(path)\n",
    "    else :\n",
    "        dict_target[id]=[path]\n",
    "print(dict_target.keys())"
   ]
  },
  {
   "cell_type": "code",
   "execution_count": 249,
   "id": "0aa9c7c1-41b1-409c-adc9-10736da71e72",
   "metadata": {},
   "outputs": [
    {
     "name": "stdout",
     "output_type": "stream",
     "text": [
      "leesanghoon\n",
      "leesanghoon\n",
      "0.3223228454589844\n"
     ]
    }
   ],
   "source": [
    "prob = 1\n",
    "idx = 1000\n",
    "i_path = list_target[idx]\n",
    "i_name = i_path.split('/')[-1]\n",
    "i_id = i_name.split('_')[0]\n",
    "if prob > 0.5 :\n",
    "    o_idx = np.random.randint(len(dict_target[i_id])) \n",
    "    o_path = dict_target[i_id][o_idx]\n",
    "    o_name = o_path.split('/')[-1]\n",
    "    o_id = o_name.split('_')[0]\n",
    "# diff\n",
    "else :\n",
    "    o_id = i_id\n",
    "    while o_id is i_id :\n",
    "        o_id = list(dict_target.keys())[np.random.randint(len(list(dict_target.keys())))]\n",
    "    o_idx = np.random.randint(len(dict_target[o_id])) \n",
    "    o_path = dict_target[o_id][o_idx]\n",
    "\n",
    "i_np = torch.from_numpy(np.load(i_path))\n",
    "o_np = torch.from_numpy(np.load(o_path))\n",
    "\n",
    "print(i_id)\n",
    "print(o_id)\n",
    "\n",
    "print(1 - spatial.distance.cosine(i_np, o_np))"
   ]
  },
  {
   "cell_type": "markdown",
   "id": "8c19ce5e-a794-42f6-9fa2-515bf1f325db",
   "metadata": {},
   "source": [
    "## multiframe"
   ]
  },
  {
   "cell_type": "code",
   "execution_count": 427,
   "id": "ea92fc6b-bf45-4a64-a3f8-600a6f57193f",
   "metadata": {},
   "outputs": [
    {
     "name": "stdout",
     "output_type": "stream",
     "text": [
      "leesanghoon\n",
      "leesanghoon\n",
      "0.5717506408691406\n"
     ]
    }
   ],
   "source": [
    "prob = 1\n",
    "idx = 1000\n",
    "i_path = list_target[idx]\n",
    "i_name = i_path.split('/')[-1]\n",
    "i_id = i_name.split('_')[0]\n",
    "i_path = os.path.join(root,\"cosface\",i_id,i_id+\".npy\")\n",
    "n_frame = 10\n",
    "\n",
    "if prob > 0.5 :\n",
    "    o_idx = np.random.randint(len(dict_target[i_id])-n_frame) \n",
    "    o_path = dict_target[i_id][o_idx]\n",
    "    o_name = o_path.split('/')[-1]\n",
    "    o_id = o_name.split('_')[0]\n",
    "# diff\n",
    "else :\n",
    "    o_id = i_id\n",
    "    while o_id == i_id :\n",
    "        o_id = list(dict_target.keys())[np.random.randint(len(list(dict_target.keys())))]\n",
    "        #print(o_id + \" |\" + i_id)\n",
    "    o_idx = np.random.randint(len(dict_target[o_id])-n_frame) \n",
    "    o_path = dict_target[o_id][o_idx]\n",
    "\n",
    "print(i_id)\n",
    "print(o_id)\n",
    "\n",
    "\n",
    "i_np = torch.from_numpy(np.load(i_path))\n",
    "\n",
    "cosim = 0\n",
    "for i in range(n_frame) : \n",
    "    o_np = torch.from_numpy(np.load(dict_target[o_id][o_idx]))\n",
    "    cosim += 1 - spatial.distance.cosine(i_np, o_np)\n",
    "\n",
    "cosim = cosim/n_frame\n",
    "    \n",
    "print(cosim)"
   ]
  },
  {
   "cell_type": "markdown",
   "id": "52c1f6a4-b866-469f-be0f-3102892292c6",
   "metadata": {},
   "source": [
    "## mean"
   ]
  },
  {
   "cell_type": "code",
   "execution_count": 334,
   "id": "fba34709-bf06-4d0b-bffe-94c7331c9330",
   "metadata": {},
   "outputs": [
    {
     "ename": "FileNotFoundError",
     "evalue": "[Errno 2] No such file or directory: '../DB/cosface/test/jeongsaeyoung/jeongsaeyoung.npy'",
     "output_type": "error",
     "traceback": [
      "\u001b[0;31m---------------------------------------------------------------------------\u001b[0m",
      "\u001b[0;31mFileNotFoundError\u001b[0m                         Traceback (most recent call last)",
      "\u001b[0;32m/tmp/ipykernel_919229/2887311575.py\u001b[0m in \u001b[0;36m<module>\u001b[0;34m\u001b[0m\n\u001b[1;32m     17\u001b[0m     \u001b[0mo_path\u001b[0m \u001b[0;34m=\u001b[0m \u001b[0mos\u001b[0m\u001b[0;34m.\u001b[0m\u001b[0mpath\u001b[0m\u001b[0;34m.\u001b[0m\u001b[0mjoin\u001b[0m\u001b[0;34m(\u001b[0m\u001b[0mroot\u001b[0m\u001b[0;34m,\u001b[0m\u001b[0;34m\"cosface\"\u001b[0m\u001b[0;34m,\u001b[0m\u001b[0;34m\"test\"\u001b[0m\u001b[0;34m,\u001b[0m\u001b[0mo_id\u001b[0m\u001b[0;34m,\u001b[0m\u001b[0mo_id\u001b[0m\u001b[0;34m+\u001b[0m\u001b[0;34m\".npy\"\u001b[0m\u001b[0;34m)\u001b[0m\u001b[0;34m\u001b[0m\u001b[0;34m\u001b[0m\u001b[0m\n\u001b[1;32m     18\u001b[0m \u001b[0;34m\u001b[0m\u001b[0m\n\u001b[0;32m---> 19\u001b[0;31m \u001b[0mi_np\u001b[0m \u001b[0;34m=\u001b[0m \u001b[0mtorch\u001b[0m\u001b[0;34m.\u001b[0m\u001b[0mfrom_numpy\u001b[0m\u001b[0;34m(\u001b[0m\u001b[0mnp\u001b[0m\u001b[0;34m.\u001b[0m\u001b[0mload\u001b[0m\u001b[0;34m(\u001b[0m\u001b[0mi_path\u001b[0m\u001b[0;34m)\u001b[0m\u001b[0;34m)\u001b[0m\u001b[0;34m\u001b[0m\u001b[0;34m\u001b[0m\u001b[0m\n\u001b[0m\u001b[1;32m     20\u001b[0m \u001b[0mo_np\u001b[0m \u001b[0;34m=\u001b[0m \u001b[0mtorch\u001b[0m\u001b[0;34m.\u001b[0m\u001b[0mfrom_numpy\u001b[0m\u001b[0;34m(\u001b[0m\u001b[0mnp\u001b[0m\u001b[0;34m.\u001b[0m\u001b[0mload\u001b[0m\u001b[0;34m(\u001b[0m\u001b[0mo_path\u001b[0m\u001b[0;34m)\u001b[0m\u001b[0;34m)\u001b[0m\u001b[0;34m\u001b[0m\u001b[0;34m\u001b[0m\u001b[0m\n\u001b[1;32m     21\u001b[0m \u001b[0;34m\u001b[0m\u001b[0m\n",
      "\u001b[0;32m~/.conda/envs/dnn/lib/python3.9/site-packages/numpy/lib/npyio.py\u001b[0m in \u001b[0;36mload\u001b[0;34m(file, mmap_mode, allow_pickle, fix_imports, encoding)\u001b[0m\n\u001b[1;32m    415\u001b[0m             \u001b[0mown_fid\u001b[0m \u001b[0;34m=\u001b[0m \u001b[0;32mFalse\u001b[0m\u001b[0;34m\u001b[0m\u001b[0;34m\u001b[0m\u001b[0m\n\u001b[1;32m    416\u001b[0m         \u001b[0;32melse\u001b[0m\u001b[0;34m:\u001b[0m\u001b[0;34m\u001b[0m\u001b[0;34m\u001b[0m\u001b[0m\n\u001b[0;32m--> 417\u001b[0;31m             \u001b[0mfid\u001b[0m \u001b[0;34m=\u001b[0m \u001b[0mstack\u001b[0m\u001b[0;34m.\u001b[0m\u001b[0menter_context\u001b[0m\u001b[0;34m(\u001b[0m\u001b[0mopen\u001b[0m\u001b[0;34m(\u001b[0m\u001b[0mos_fspath\u001b[0m\u001b[0;34m(\u001b[0m\u001b[0mfile\u001b[0m\u001b[0;34m)\u001b[0m\u001b[0;34m,\u001b[0m \u001b[0;34m\"rb\"\u001b[0m\u001b[0;34m)\u001b[0m\u001b[0;34m)\u001b[0m\u001b[0;34m\u001b[0m\u001b[0;34m\u001b[0m\u001b[0m\n\u001b[0m\u001b[1;32m    418\u001b[0m             \u001b[0mown_fid\u001b[0m \u001b[0;34m=\u001b[0m \u001b[0;32mTrue\u001b[0m\u001b[0;34m\u001b[0m\u001b[0;34m\u001b[0m\u001b[0m\n\u001b[1;32m    419\u001b[0m \u001b[0;34m\u001b[0m\u001b[0m\n",
      "\u001b[0;31mFileNotFoundError\u001b[0m: [Errno 2] No such file or directory: '../DB/cosface/test/jeongsaeyoung/jeongsaeyoung.npy'"
     ]
    }
   ],
   "source": [
    "prob = 0\n",
    "idx = np.random.randint(len(list_target))\n",
    "\n",
    "i_path = list_target[idx]\n",
    "i_name = i_path.split('/')[-1]\n",
    "i_id = i_name.split('_')[0]\n",
    "i_path = os.path.join(root,\"cosface\",\"test\",i_id,i_id+\".npy\")\n",
    "\n",
    "if prob > 0.5 :\n",
    "    o_id = i_id\n",
    "    o_path = os.path.join(root,\"coseface\",\"test\",o_id,o_id+\".npy\")\n",
    "# diff\n",
    "else :\n",
    "    o_id = i_id\n",
    "    while o_id == i_id :\n",
    "        o_id = list(dict_target.keys())[np.random.randint(len(list(dict_target.keys())))]\n",
    "    o_path = os.path.join(root,\"cosface\",\"test\",o_id,o_id+\".npy\")\n",
    "\n",
    "i_np = torch.from_numpy(np.load(i_path))\n",
    "o_np = torch.from_numpy(np.load(o_path))\n",
    "\n",
    "print(i_path)\n",
    "print(o_path)\n",
    "\n",
    "print(i_id)\n",
    "print(o_id)\n",
    "\n",
    "print(1 - spatial.distance.cosine(i_np, o_np))"
   ]
  },
  {
   "cell_type": "code",
   "execution_count": null,
   "id": "93df98a2-fe4c-41a8-9d30-6069264e5692",
   "metadata": {},
   "outputs": [],
   "source": []
  }
 ],
 "metadata": {
  "kernelspec": {
   "display_name": "Python 3 (ipykernel)",
   "language": "python",
   "name": "python3"
  },
  "language_info": {
   "codemirror_mode": {
    "name": "ipython",
    "version": 3
   },
   "file_extension": ".py",
   "mimetype": "text/x-python",
   "name": "python",
   "nbconvert_exporter": "python",
   "pygments_lexer": "ipython3",
   "version": "3.9.6"
  }
 },
 "nbformat": 4,
 "nbformat_minor": 5
}
