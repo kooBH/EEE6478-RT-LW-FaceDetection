{
 "cells": [
  {
   "cell_type": "markdown",
   "id": "6985f4bb-7f01-47f5-b6a5-b5cf9ed47dbb",
   "metadata": {},
   "source": [
    "## TODO\n",
    "+ Load Video\n",
    "+ Run Face Detection for all models\n",
    "    + Display FPS\n",
    "    + Display bbox\n"
   ]
  },
  {
   "cell_type": "code",
   "execution_count": 65,
   "id": "6744bfaa-2e44-498d-bb0b-9b8e8659ae68",
   "metadata": {},
   "outputs": [
    {
     "name": "stdout",
     "output_type": "stream",
     "text": [
      "The autoreload extension is already loaded. To reload it, use:\n",
      "  %reload_ext autoreload\n"
     ]
    }
   ],
   "source": [
    "import cv2\n",
    "import sys\n",
    "sys.path.append(\"./yolo5face\")\n",
    "sys.path.append(\"./EXTD_Pytorch\")\n",
    "from IPython.display import Video\n",
    "from pytictoc import TicToc\n",
    "import numpy as np\n",
    "\n",
    "import torch\n",
    "\n",
    "%load_ext autoreload\n",
    "%autoreload 2\n",
    "from detect_face import YOLO5face_detector\n",
    "from opencv_haar import opencv_haar\n",
    "#from module_DSFD import DSFD\n",
    "from ULFGFD_module import ULFGFD\n",
    "from module_EXTD import module_EXTD"
   ]
  },
  {
   "cell_type": "code",
   "execution_count": 66,
   "id": "ba29c4df-cae3-4407-80f8-d57428371270",
   "metadata": {},
   "outputs": [],
   "source": [
    "t = TicToc()\n",
    "path = \"../sample/kangminseok_1.webm\"\n",
    "root_pretrained = \"../pretrained/\"\n",
    "#device = \"cuda:0\"\n",
    "device = \"cpu\"\n",
    "fourcc = cv2.VideoWriter_fourcc(*'DIVX')"
   ]
  },
  {
   "cell_type": "code",
   "execution_count": 67,
   "id": "62c7c1e3-7f8e-46be-8c3e-7d4deeebd273",
   "metadata": {},
   "outputs": [
    {
     "name": "stdout",
     "output_type": "stream",
     "text": [
      "duration : 10.999\n",
      "fps : 1000.0\n",
      "frame_count : 10999\n",
      "width : 2592\n",
      "height : 1944\n"
     ]
    }
   ],
   "source": [
    "vid = cv2.VideoCapture(path)\n",
    "\n",
    "width  = int(vid.get(cv2.CAP_PROP_FRAME_WIDTH) )  # float `width`\n",
    "height = int(vid.get(cv2.CAP_PROP_FRAME_HEIGHT))  # float `height`\n",
    "fps = vid.get(cv2.CAP_PROP_FPS)      # OpenCV2 version 2 used \"CV_CAP_PROP_FPS\"\n",
    "frame_count = int(vid.get(cv2.CAP_PROP_FRAME_COUNT))\n",
    "\n",
    "duration = frame_count/fps\n",
    "vid.release()\n",
    "\n",
    "print(\"duration : \" + str(duration))\n",
    "print(\"fps : \" + str(fps))\n",
    "print(\"frame_count : \" + str(frame_count))\n",
    "print(\"width : \" + str(width))\n",
    "print(\"height : \" + str(height))\n",
    "\n",
    "n_iter = 10"
   ]
  },
  {
   "cell_type": "markdown",
   "id": "77a0f824-c43d-4dc3-84cd-fd6e4f8fb30a",
   "metadata": {},
   "source": [
    "FPS랑 frame count, duration이 안 맞음'"
   ]
  },
  {
   "cell_type": "markdown",
   "id": "94318d4e-6cac-42ae-bc0f-13bba53c83a8",
   "metadata": {},
   "source": [
    "## Data"
   ]
  },
  {
   "cell_type": "code",
   "execution_count": 68,
   "id": "fb9d9708-803f-4594-81d3-0ba6123c80ed",
   "metadata": {},
   "outputs": [
    {
     "name": "stdout",
     "output_type": "stream",
     "text": [
      "(1944, 2592, 3)\n",
      "(972, 1296, 3)\n",
      "(1, 972, 1296, 3)\n",
      "(165, 972, 1296, 3)\n"
     ]
    }
   ],
   "source": [
    "vid = cv2.VideoCapture(path)\n",
    "ret,frame = vid.read()\n",
    "print(frame.shape)\n",
    "frame = cv2.resize(frame, dsize=(0, 0), fx=0.5, fy=0.5)\n",
    "print(frame.shape)\n",
    "\n",
    "data = np.expand_dims(frame, 0)\n",
    "print(data.shape)\n",
    "\n",
    "while(vid.isOpened()):\n",
    "    ret,frame = vid.read()\n",
    "    if ret :\n",
    "        frame = cv2.resize(frame, dsize=(0, 0), fx=0.5, fy=0.5)\n",
    "        frame = np.expand_dims(frame, 0)\n",
    "        data = np.concatenate((data,frame), axis=0)\n",
    "    else :\n",
    "        break\n",
    "vid.release()\n",
    "\n",
    "print(data.shape)"
   ]
  },
  {
   "cell_type": "markdown",
   "id": "047c3a85-7ecc-4dd0-8794-66d2702d048a",
   "metadata": {},
   "source": [
    "## EXTD_Pytorch"
   ]
  },
  {
   "cell_type": "code",
   "execution_count": 53,
   "id": "540e31e0-df55-439a-ae74-b4d82723bb7f",
   "metadata": {},
   "outputs": [
    {
     "name": "stdout",
     "output_type": "stream",
     "text": [
      "64\n",
      "init Function\n",
      "3.945600110455416e-05\n",
      "6.901241800002026\n",
      "6.901202344000922\n"
     ]
    }
   ],
   "source": [
    "## EXTD_Pytorch\n",
    "vid = cv2.VideoCapture(path)\n",
    "\n",
    "out_EXTD = cv2.VideoWriter('outputs/EXTD.avi', fourcc, 20.0, (int(width*0.5),int(height*0.5)))\n",
    "detector = module_EXTD('cuda:0',64)\n",
    "t.tic()\n",
    "s = t.tocvalue()\n",
    "for i in range(data.shape[0]) : \n",
    "    frame = detector.detect(data[i,...])\n",
    "    out_EXTD.write(frame)\n",
    "e = t.tocvalue()\n",
    "print(s)\n",
    "print(e)\n",
    "print(e-s)\n",
    "vid.release()\n",
    "out_EXTD.release()"
   ]
  },
  {
   "cell_type": "code",
   "execution_count": 61,
   "id": "36a03c87-0774-4a1a-9452-378337752c48",
   "metadata": {},
   "outputs": [
    {
     "name": "stdout",
     "output_type": "stream",
     "text": [
      "Fusing layers... \n",
      "21044232\n",
      "Elapsed time is 21.827004 seconds.\n"
     ]
    }
   ],
   "source": [
    "## # YOLO5-Face(m) : cuda\n",
    "\n",
    "vid = cv2.VideoCapture(path)\n",
    "\n",
    "name_model = \"yolov5m-face.pt\"\n",
    "out_yolo5face = cv2.VideoWriter('outputs/yolo5m.avi', fourcc, 20.0, (int(width*0.5),int(height*0.5)))\n",
    "yolo5face = YOLO5face_detector(root_pretrained+name_model,device)\n",
    "t.tic()\n",
    "while(vid.isOpened()):\n",
    "    ret,frame = vid.read()\n",
    "    if ret :\n",
    "        frame = cv2.resize(frame, dsize=(0, 0), fx=0.5, fy=0.5)\n",
    "        frame = yolo5face.detect(frame)\n",
    "        out_yolo5face.write(frame)\n",
    "    else :\n",
    "        break\n",
    "t.toc()\n",
    "vid.release()\n",
    "out_yolo5face.release()"
   ]
  },
  {
   "cell_type": "markdown",
   "id": "4345d53d-5182-4242-9dfe-79d75e28325f",
   "metadata": {},
   "source": [
    "# YOLO5s : cuda"
   ]
  },
  {
   "cell_type": "code",
   "execution_count": 54,
   "id": "c3a72457-a74b-4d3c-a925-abaa4119d879",
   "metadata": {},
   "outputs": [
    {
     "name": "stdout",
     "output_type": "stream",
     "text": [
      "0\n",
      "1\n",
      "2\n",
      "3\n",
      "4\n"
     ]
    }
   ],
   "source": [
    "for i in range(5):\n",
    "    print(i)"
   ]
  },
  {
   "cell_type": "code",
   "execution_count": 64,
   "id": "ba8ddde9-886a-4f58-853b-eb8f701415c0",
   "metadata": {},
   "outputs": [
    {
     "name": "stdout",
     "output_type": "stream",
     "text": [
      "Fusing layers... \n",
      "7064992\n",
      "Elapsed time is 12.772634 seconds.\n"
     ]
    }
   ],
   "source": [
    "vid = cv2.VideoCapture(path)\n",
    "\n",
    "name_model = \"yolov5s-face.pt\"\n",
    "out_yolo5face = cv2.VideoWriter('outputs/yolo5s.avi', fourcc, 20.0, (int(width*0.5),int(height*0.5)))\n",
    "yolo5face = YOLO5face_detector(root_pretrained+name_model,device)\n",
    "t.tic()\n",
    "while(vid.isOpened()):\n",
    "    ret,frame = vid.read()\n",
    "    if ret :\n",
    "        frame = cv2.resize(frame, dsize=(0, 0), fx=0.5, fy=0.5)\n",
    "        frame = yolo5face.detect(frame)\n",
    "        out_yolo5face.write(frame)\n",
    "    else :\n",
    "        break\n",
    "t.toc()\n",
    "vid.release()\n",
    "out_yolo5face.release()"
   ]
  },
  {
   "cell_type": "markdown",
   "id": "4d0dc18a-6681-4b1f-a9b0-7f427bfc15a7",
   "metadata": {},
   "source": [
    "# YOLO5n : cuda"
   ]
  },
  {
   "cell_type": "code",
   "execution_count": 63,
   "id": "bcc790b5-5978-4d67-ac7c-873ea623ec10",
   "metadata": {},
   "outputs": [
    {
     "name": "stdout",
     "output_type": "stream",
     "text": [
      "Fusing layers... \n",
      "1723584\n",
      "Elapsed time is 13.022457 seconds.\n"
     ]
    }
   ],
   "source": [
    "vid = cv2.VideoCapture(path)\n",
    "\n",
    "name_model = \"yolov5n-face.pt\"\n",
    "out_yolo5face = cv2.VideoWriter('outputs/yolov5n.avi', fourcc, 20.0, (int(width*0.5),int(height*0.5)))\n",
    "yolo5face = YOLO5face_detector(root_pretrained+name_model,device)\n",
    "t.tic()\n",
    "while(vid.isOpened()):\n",
    "    ret,frame = vid.read()\n",
    "    if ret :\n",
    "        frame = cv2.resize(frame, dsize=(0, 0), fx=0.5, fy=0.5)\n",
    "        frame = yolo5face.detect(frame)\n",
    "        out_yolo5face.write(frame)\n",
    "    else :\n",
    "        break\n",
    "t.toc()\n",
    "vid.release()\n",
    "out_yolo5face.release()\n"
   ]
  },
  {
   "cell_type": "markdown",
   "id": "2cf4712a-f900-48c6-9502-cc7413b4b100",
   "metadata": {
    "tags": []
   },
   "source": [
    "# YOLO5n05 : cuda"
   ]
  },
  {
   "cell_type": "code",
   "execution_count": 69,
   "id": "bffc2e12-d086-4498-874e-bc31710f0053",
   "metadata": {},
   "outputs": [
    {
     "name": "stdout",
     "output_type": "stream",
     "text": [
      "Fusing layers... \n",
      "446376\n",
      "Elapsed time is 13.952494 seconds.\n"
     ]
    }
   ],
   "source": [
    "vid = cv2.VideoCapture(path)\n",
    "\n",
    "name_model = \"yolov5n-0.5.pt\"\n",
    "out_yolo5face = cv2.VideoWriter('outputs/yolov5n05.avi', fourcc, 20.0, (int(width*0.5),int(height*0.5)))\n",
    "yolo5face = YOLO5face_detector(root_pretrained+name_model,device)\n",
    "t.tic()\n",
    "while(vid.isOpened()):\n",
    "    ret,frame = vid.read()\n",
    "    if ret :\n",
    "        frame = cv2.resize(frame, dsize=(0, 0), fx=0.5, fy=0.5)\n",
    "        frame = yolo5face.detect(frame)\n",
    "        out_yolo5face.write(frame)\n",
    "    else :\n",
    "        break\n",
    "t.toc()\n",
    "vid.release()\n",
    "out_yolo5face.release()"
   ]
  },
  {
   "cell_type": "code",
   "execution_count": 10,
   "id": "5c26b6e9-785d-4f5c-a27e-62444fabf187",
   "metadata": {},
   "outputs": [
    {
     "name": "stdout",
     "output_type": "stream",
     "text": [
      "Elapsed time is 18.507227 seconds.\n"
     ]
    }
   ],
   "source": [
    "## haar : 1 core cpu\n",
    "\n",
    "vid = cv2.VideoCapture(path)\n",
    "\n",
    "out_harr = cv2.VideoWriter('outputs/haar.avi', fourcc, 20.0, (int(width*0.5),int(height*0.5)))\n",
    "haar = opencv_haar()\n",
    "t.tic()\n",
    "while(vid.isOpened()):\n",
    "    ret,frame = vid.read()\n",
    "    if ret :\n",
    "        frame = cv2.resize(frame, dsize=(0, 0), fx=0.5, fy=0.5)\n",
    "        frame = haar.detect(frame)\n",
    "        out_harr.write(frame)\n",
    "    else :\n",
    "        break\n",
    "t.toc()\n",
    "vid.release()\n",
    "out_harr.release()"
   ]
  },
  {
   "cell_type": "code",
   "execution_count": 11,
   "id": "edf530e0-ef52-4549-ab48-4567d1e69533",
   "metadata": {},
   "outputs": [
    {
     "ename": "NameError",
     "evalue": "name 'DSFD' is not defined",
     "output_type": "error",
     "traceback": [
      "\u001b[0;31m---------------------------------------------------------------------------\u001b[0m",
      "\u001b[0;31mNameError\u001b[0m                                 Traceback (most recent call last)",
      "\u001b[0;32m/tmp/ipykernel_21505/3793126595.py\u001b[0m in \u001b[0;36m<module>\u001b[0;34m\u001b[0m\n\u001b[1;32m      4\u001b[0m \u001b[0;34m\u001b[0m\u001b[0m\n\u001b[1;32m      5\u001b[0m \u001b[0mout_dsfd\u001b[0m \u001b[0;34m=\u001b[0m \u001b[0mcv2\u001b[0m\u001b[0;34m.\u001b[0m\u001b[0mVideoWriter\u001b[0m\u001b[0;34m(\u001b[0m\u001b[0;34m'outputs/dsfd.avi'\u001b[0m\u001b[0;34m,\u001b[0m \u001b[0mfourcc\u001b[0m\u001b[0;34m,\u001b[0m \u001b[0;36m20.0\u001b[0m\u001b[0;34m,\u001b[0m \u001b[0;34m(\u001b[0m\u001b[0mint\u001b[0m\u001b[0;34m(\u001b[0m\u001b[0mwidth\u001b[0m\u001b[0;34m*\u001b[0m\u001b[0;36m0.5\u001b[0m\u001b[0;34m)\u001b[0m\u001b[0;34m,\u001b[0m\u001b[0mint\u001b[0m\u001b[0;34m(\u001b[0m\u001b[0mheight\u001b[0m\u001b[0;34m*\u001b[0m\u001b[0;36m0.5\u001b[0m\u001b[0;34m)\u001b[0m\u001b[0;34m)\u001b[0m\u001b[0;34m)\u001b[0m\u001b[0;34m\u001b[0m\u001b[0;34m\u001b[0m\u001b[0m\n\u001b[0;32m----> 6\u001b[0;31m \u001b[0mdsfd\u001b[0m \u001b[0;34m=\u001b[0m \u001b[0mDSFD\u001b[0m\u001b[0;34m(\u001b[0m\u001b[0;34m)\u001b[0m\u001b[0;34m\u001b[0m\u001b[0;34m\u001b[0m\u001b[0m\n\u001b[0m\u001b[1;32m      7\u001b[0m \u001b[0mt\u001b[0m\u001b[0;34m.\u001b[0m\u001b[0mtic\u001b[0m\u001b[0;34m(\u001b[0m\u001b[0;34m)\u001b[0m\u001b[0;34m\u001b[0m\u001b[0;34m\u001b[0m\u001b[0m\n\u001b[1;32m      8\u001b[0m \u001b[0;32mwhile\u001b[0m\u001b[0;34m(\u001b[0m\u001b[0mvid\u001b[0m\u001b[0;34m.\u001b[0m\u001b[0misOpened\u001b[0m\u001b[0;34m(\u001b[0m\u001b[0;34m)\u001b[0m\u001b[0;34m)\u001b[0m\u001b[0;34m:\u001b[0m\u001b[0;34m\u001b[0m\u001b[0;34m\u001b[0m\u001b[0m\n",
      "\u001b[0;31mNameError\u001b[0m: name 'DSFD' is not defined"
     ]
    }
   ],
   "source": [
    "## DSFD\n",
    "\n",
    "vid = cv2.VideoCapture(path)\n",
    "\n",
    "out_dsfd = cv2.VideoWriter('outputs/dsfd.avi', fourcc, 20.0, (int(width*0.5),int(height*0.5)))\n",
    "dsfd = DSFD()\n",
    "t.tic()\n",
    "while(vid.isOpened()):\n",
    "    ret,frame = vid.read()\n",
    "    if ret :\n",
    "        frame = cv2.resize(frame, dsize=(0, 0), fx=0.5, fy=0.5)\n",
    "        frame = dsfd.detect(frame)\n",
    "        break\n",
    "        out_harr.write(frame)\n",
    "    else :\n",
    "        break\n",
    "t.toc()\n",
    "vid.release()\n",
    "out_dsfd.release()"
   ]
  },
  {
   "cell_type": "code",
   "execution_count": 72,
   "id": "4011c1e7-5bbe-4f78-b69a-0823563b5092",
   "metadata": {},
   "outputs": [
    {
     "data": {
      "text/plain": [
       "tensor([1, 2])"
      ]
     },
     "execution_count": 72,
     "metadata": {},
     "output_type": "execute_result"
    }
   ],
   "source": [
    "torch.tensor((1,2))"
   ]
  },
  {
   "cell_type": "code",
   "execution_count": null,
   "id": "5f13133c-b63d-434f-89c1-3d6e1e7dbe47",
   "metadata": {},
   "outputs": [],
   "source": []
  }
 ],
 "metadata": {
  "kernelspec": {
   "display_name": "Python 3 (ipykernel)",
   "language": "python",
   "name": "python3"
  },
  "language_info": {
   "codemirror_mode": {
    "name": "ipython",
    "version": 3
   },
   "file_extension": ".py",
   "mimetype": "text/x-python",
   "name": "python",
   "nbconvert_exporter": "python",
   "pygments_lexer": "ipython3",
   "version": "3.9.6"
  }
 },
 "nbformat": 4,
 "nbformat_minor": 5
}
