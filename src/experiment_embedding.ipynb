{
 "cells": [
  {
   "cell_type": "code",
   "execution_count": 16,
   "id": "52c16bbb-a043-4c3f-a04c-654ce0261617",
   "metadata": {},
   "outputs": [
    {
     "name": "stdout",
     "output_type": "stream",
     "text": [
      "The autoreload extension is already loaded. To reload it, use:\n",
      "  %reload_ext autoreload\n"
     ]
    }
   ],
   "source": [
    "import cv2\n",
    "import sys\n",
    "import os\n",
    "#sys.path.append(os.path.abspath(\"./insightface/recognition/arcface_torch\"))\n",
    "#sys.path.append(os.path.abspath(\"./yolo5face\"))\n",
    "path_add = \"./yolo5face\"\n",
    "sys.path.append(path_add)\n",
    "from module_detect import YOLO5face_detector\n",
    "for st in sys.path :\n",
    "    if path_add in st :\n",
    "        sys.path.remove(st)\n",
    "        \n",
    "path_add = \"./insightface/recognition/arcface_torch\"\n",
    "sys.path.append(path_add)\n",
    "from module_embedding import module_embedding\n",
    "for st in sys.path :\n",
    "    if path_add in st :\n",
    "        sys.path.remove(st)\n",
    "        \n",
    "from IPython.display import Video\n",
    "from pytictoc import TicToc\n",
    "import numpy as np\n",
    "import torch\n",
    "\n",
    "%load_ext autoreload\n",
    "%autoreload 2"
   ]
  },
  {
   "cell_type": "code",
   "execution_count": 2,
   "id": "69ae098d-ba74-4647-b18e-524ea858d836",
   "metadata": {},
   "outputs": [],
   "source": [
    "t = TicToc()\n",
    "path = \"../sample/kbh3.webm\"\n",
    "root_pretrained = \"../pretrained/\"\n",
    "device = \"cuda:0\"\n",
    "#device = \"cpu\"\n",
    "fourcc = cv2.VideoWriter_fourcc(*'DIVX')"
   ]
  },
  {
   "cell_type": "code",
   "execution_count": 3,
   "id": "9a2843f6-7289-4ce4-b87d-80c55be1302b",
   "metadata": {},
   "outputs": [
    {
     "name": "stdout",
     "output_type": "stream",
     "text": [
      "duration : 11.332\n",
      "fps : 1000.0\n",
      "frame_count : 11332\n",
      "width : 1280\n",
      "height : 960\n"
     ]
    }
   ],
   "source": [
    "vid = cv2.VideoCapture(path)\n",
    "\n",
    "width  = int(vid.get(cv2.CAP_PROP_FRAME_WIDTH) )  # float `width`\n",
    "height = int(vid.get(cv2.CAP_PROP_FRAME_HEIGHT))  # float `height`\n",
    "fps = vid.get(cv2.CAP_PROP_FPS)      # OpenCV2 version 2 used \"CV_CAP_PROP_FPS\"\n",
    "frame_count = int(vid.get(cv2.CAP_PROP_FRAME_COUNT))\n",
    "\n",
    "duration = frame_count/fps\n",
    "vid.release()\n",
    "\n",
    "print(\"duration : \" + str(duration))\n",
    "print(\"fps : \" + str(fps))\n",
    "print(\"frame_count : \" + str(frame_count))\n",
    "print(\"width : \" + str(width))\n",
    "print(\"height : \" + str(height))"
   ]
  },
  {
   "cell_type": "code",
   "execution_count": 4,
   "id": "6af79c4a-eec3-47fa-b33f-7da170e8789f",
   "metadata": {},
   "outputs": [
    {
     "name": "stdout",
     "output_type": "stream",
     "text": [
      "Fusing layers... \n"
     ]
    }
   ],
   "source": [
    "detector = YOLO5face_detector(root_pretrained + \"yolov5n-0.5.pt\", device )"
   ]
  },
  {
   "cell_type": "code",
   "execution_count": 18,
   "id": "7886fb1e-7732-4b4d-b793-d373cc1f59ce",
   "metadata": {},
   "outputs": [
    {
     "name": "stdout",
     "output_type": "stream",
     "text": [
      "Elapsed time is 4.060175 seconds.\n"
     ]
    }
   ],
   "source": [
    "t.tic()\n",
    "vid = cv2.VideoCapture(path)\n",
    "out_yolo5face = cv2.VideoWriter('outputs/yolov5n05_crop.avi', fourcc, 20.0, (112,112))\n",
    "while(vid.isOpened()):\n",
    "    ret,frame = vid.read()\n",
    "    if ret :\n",
    "        #frame = cv2.resize(frame, dsize=(0, 0), fx=0.5, fy=0.5)\n",
    "        xywh = detector.detect(frame)\n",
    "        if xywh is not None : \n",
    "            crop = frame[xywh[1]:xywh[3],xywh[0]:xywh[2]]\n",
    "            crop = cv2.resize(crop, dsize=(112,112))\n",
    "            out_yolo5face.write(crop)\n",
    "            #print(xywh)\n",
    "        else :\n",
    "            #print(\"None\")\n",
    "            pass\n",
    "        \n",
    "    else :\n",
    "        break\n",
    "t.toc()\n",
    "vid.release()\n",
    "out_yolo5face.release()"
   ]
  },
  {
   "cell_type": "code",
   "execution_count": 28,
   "id": "0c964408-6565-4768-b482-edb2f14debb5",
   "metadata": {},
   "outputs": [
    {
     "name": "stdout",
     "output_type": "stream",
     "text": [
      "(160, 512)\n",
      "(512,)\n",
      "Elapsed time is 1.115493 seconds.\n"
     ]
    }
   ],
   "source": [
    "vid = cv2.VideoCapture('outputs/yolov5n05_crop.avi')\n",
    "embedding = module_embedding(\"cuda:0\",loss=\"arcface\")\n",
    "\n",
    "feat = None\n",
    "t.tic()\n",
    "while(vid.isOpened()):\n",
    "    ret,frame = vid.read()\n",
    "    if ret :\n",
    "        frame = cv2.resize(frame, dsize=(112,112))\n",
    "        t_feat = embedding.embed(frame)\n",
    "        if feat is None :\n",
    "            feat = t_feat\n",
    "        else :\n",
    "            feat = np.concatenate((feat,t_feat),0)\n",
    "        #print(feat.shape)\n",
    "    else :\n",
    "        break\n",
    "print(feat.shape)\n",
    "feat = feat.mean(0)\n",
    "print(feat.shape)\n",
    "np.save(\"feat.npy\",feat)\n",
    "t.toc()\n",
    "vid.release()"
   ]
  },
  {
   "cell_type": "code",
   "execution_count": 26,
   "id": "9cd68810-6e37-4add-8ed1-e86ecf5c0b53",
   "metadata": {},
   "outputs": [
    {
     "data": {
      "text/plain": [
       "(512,)"
      ]
     },
     "execution_count": 26,
     "metadata": {},
     "output_type": "execute_result"
    }
   ],
   "source": [
    "x = np.load(\"feat.npy\")\n",
    "x.shape"
   ]
  },
  {
   "cell_type": "code",
   "execution_count": 29,
   "id": "442c3762-ad46-44e2-8cfb-e8dbf358d6b8",
   "metadata": {},
   "outputs": [
    {
     "data": {
      "text/plain": [
       "'qwe'"
      ]
     },
     "execution_count": 29,
     "metadata": {},
     "output_type": "execute_result"
    }
   ],
   "source": [
    "y = \"qwe3\"\n",
    "y[0:3]"
   ]
  },
  {
   "cell_type": "code",
   "execution_count": 31,
   "id": "14e30e03-a0ed-4785-a840-95dedaa9e12f",
   "metadata": {},
   "outputs": [
    {
     "data": {
      "text/plain": [
       "0.25973306694581955"
      ]
     },
     "execution_count": 31,
     "metadata": {},
     "output_type": "execute_result"
    }
   ],
   "source": [
    "np.random.rand(1)[0]"
   ]
  },
  {
   "cell_type": "code",
   "execution_count": 32,
   "id": "ecf75665-0934-428f-8d69-1838604311de",
   "metadata": {},
   "outputs": [],
   "source": [
    "d = {\"A\":1,\"B\":2,\"C\":3}"
   ]
  },
  {
   "cell_type": "code",
   "execution_count": 33,
   "id": "46cc34dc-7774-4a1b-b0c7-641a30acff6a",
   "metadata": {},
   "outputs": [
    {
     "data": {
      "text/plain": [
       "{'A': 1, 'B': 2, 'C': 3}"
      ]
     },
     "execution_count": 33,
     "metadata": {},
     "output_type": "execute_result"
    }
   ],
   "source": [
    "d"
   ]
  },
  {
   "cell_type": "code",
   "execution_count": 35,
   "id": "96d5532a-5fbb-480c-ac5a-9fb1706ba304",
   "metadata": {},
   "outputs": [
    {
     "data": {
      "text/plain": [
       "['A', 'B', 'C']"
      ]
     },
     "execution_count": 35,
     "metadata": {},
     "output_type": "execute_result"
    }
   ],
   "source": [
    "list(d.keys())"
   ]
  },
  {
   "cell_type": "code",
   "execution_count": 57,
   "id": "777eb6ca-548a-4458-a4bd-04325d7fbbc6",
   "metadata": {},
   "outputs": [
    {
     "data": {
      "text/plain": [
       "'B'"
      ]
     },
     "execution_count": 57,
     "metadata": {},
     "output_type": "execute_result"
    }
   ],
   "source": [
    "key = 'A'\n",
    "t_key = 'A'\n",
    "while t_key is key :\n",
    "    t_key = list(d.keys())[np.random.randint(len(list(d.keys())))]\n",
    "t_key"
   ]
  },
  {
   "cell_type": "code",
   "execution_count": null,
   "id": "038f72c3-e1c3-4609-a4af-ea6bf45cb5ac",
   "metadata": {},
   "outputs": [],
   "source": []
  },
  {
   "cell_type": "code",
   "execution_count": null,
   "id": "d0a644dd-a6c9-4e44-a45a-7c7d4d2a35fb",
   "metadata": {},
   "outputs": [],
   "source": []
  }
 ],
 "metadata": {
  "kernelspec": {
   "display_name": "Python 3 (ipykernel)",
   "language": "python",
   "name": "python3"
  },
  "language_info": {
   "codemirror_mode": {
    "name": "ipython",
    "version": 3
   },
   "file_extension": ".py",
   "mimetype": "text/x-python",
   "name": "python",
   "nbconvert_exporter": "python",
   "pygments_lexer": "ipython3",
   "version": "3.9.6"
  }
 },
 "nbformat": 4,
 "nbformat_minor": 5
}
