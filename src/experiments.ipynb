{
 "cells": [
  {
   "cell_type": "markdown",
   "id": "6985f4bb-7f01-47f5-b6a5-b5cf9ed47dbb",
   "metadata": {},
   "source": [
    "## TODO\n",
    "+ Load Video\n",
    "+ Run Face Detection for all models\n",
    "    + Display FPS\n",
    "    + Display bbox\n"
   ]
  },
  {
   "cell_type": "code",
   "execution_count": 21,
   "id": "6744bfaa-2e44-498d-bb0b-9b8e8659ae68",
   "metadata": {},
   "outputs": [
    {
     "name": "stdout",
     "output_type": "stream",
     "text": [
      "The autoreload extension is already loaded. To reload it, use:\n",
      "  %reload_ext autoreload\n"
     ]
    }
   ],
   "source": [
    "import cv2\n",
    "import sys\n",
    "sys.path.append(\"./yolo5-face\")\n",
    "sys.path.append(\"./EXTD_Pytorch\")\n",
    "from IPython.display import Video\n",
    "from pytictoc import TicToc\n",
    "import numpy as np\n",
    "\n",
    "import torch\n",
    "\n",
    "%load_ext autoreload\n",
    "%autoreload 2\n",
    "from detect_face import YOLO5face_detector\n",
    "from opencv_haar import opencv_haar\n",
    "#from module_DSFD import DSFD\n",
    "from ULFGFD_module import ULFGFD\n",
    "from module_EXTD import module_EXTD"
   ]
  },
  {
   "cell_type": "code",
   "execution_count": 22,
   "id": "ba29c4df-cae3-4407-80f8-d57428371270",
   "metadata": {},
   "outputs": [],
   "source": [
    "t = TicToc()\n",
    "path = \"../sample/kbh3.webm\"\n",
    "root_pretrained = \"../pretrained/\"\n",
    "#device = \"cuda:0\"\n",
    "device = \"cpu\"\n",
    "fourcc = cv2.VideoWriter_fourcc(*'DIVX')"
   ]
  },
  {
   "cell_type": "code",
   "execution_count": 23,
   "id": "62c7c1e3-7f8e-46be-8c3e-7d4deeebd273",
   "metadata": {},
   "outputs": [
    {
     "name": "stdout",
     "output_type": "stream",
     "text": [
      "duration : 11.332\n",
      "fps : 1000.0\n",
      "frame_count : 11332\n",
      "width : 1280\n",
      "height : 960\n"
     ]
    }
   ],
   "source": [
    "vid = cv2.VideoCapture(path)\n",
    "\n",
    "width  = int(vid.get(cv2.CAP_PROP_FRAME_WIDTH) )  # float `width`\n",
    "height = int(vid.get(cv2.CAP_PROP_FRAME_HEIGHT))  # float `height`\n",
    "fps = vid.get(cv2.CAP_PROP_FPS)      # OpenCV2 version 2 used \"CV_CAP_PROP_FPS\"\n",
    "frame_count = int(vid.get(cv2.CAP_PROP_FRAME_COUNT))\n",
    "\n",
    "duration = frame_count/fps\n",
    "vid.release()\n",
    "\n",
    "print(\"duration : \" + str(duration))\n",
    "print(\"fps : \" + str(fps))\n",
    "print(\"frame_count : \" + str(frame_count))\n",
    "print(\"width : \" + str(width))\n",
    "print(\"height : \" + str(height))"
   ]
  },
  {
   "cell_type": "markdown",
   "id": "77a0f824-c43d-4dc3-84cd-fd6e4f8fb30a",
   "metadata": {},
   "source": [
    "FPS랑 frame count, duration이 안 맞음'"
   ]
  },
  {
   "cell_type": "markdown",
   "id": "047c3a85-7ecc-4dd0-8794-66d2702d048a",
   "metadata": {},
   "source": [
    "## EXTD_Pytorch"
   ]
  },
  {
   "cell_type": "code",
   "execution_count": 25,
   "id": "540e31e0-df55-439a-ae74-b4d82723bb7f",
   "metadata": {},
   "outputs": [
    {
     "name": "stdout",
     "output_type": "stream",
     "text": [
      "64\n",
      "init Function\n",
      "path : /home/kbh/EXTD_test/EXTD_Pytorch/EXTD_64_newtorch.pt\n",
      "Elapsed time is 7.289477 seconds.\n"
     ]
    }
   ],
   "source": [
    "## EXTD_Pytorch\n",
    "vid = cv2.VideoCapture(path)\n",
    "\n",
    "out_EXTD = cv2.VideoWriter('EXTD.avi', fourcc, 20.0, (int(width*0.5),int(height*0.5)))\n",
    "detector = module_EXTD('cuda:0')\n",
    "t.tic()\n",
    "while(vid.isOpened()):\n",
    "    ret,frame = vid.read()\n",
    "    if ret :\n",
    "        frame = cv2.resize(frame, dsize=(0, 0), fx=0.5, fy=0.5)\n",
    "        frame = detector.detect(frame)\n",
    "        out_EXTD.write(frame)\n",
    "    else :\n",
    "        break\n",
    "t.toc()\n",
    "vid.release()\n",
    "out_EXTD.release()"
   ]
  },
  {
   "cell_type": "code",
   "execution_count": 26,
   "id": "db90bf9b-ce13-492b-a3fd-677718f9e328",
   "metadata": {},
   "outputs": [
    {
     "ename": "TypeError",
     "evalue": "convert_locations_to_boxes() missing 3 required positional arguments: 'priors', 'center_variance', and 'size_variance'",
     "output_type": "error",
     "traceback": [
      "\u001b[0;31m---------------------------------------------------------------------------\u001b[0m",
      "\u001b[0;31mTypeError\u001b[0m                                 Traceback (most recent call last)",
      "\u001b[0;32m/tmp/ipykernel_873884/214738840.py\u001b[0m in \u001b[0;36m<module>\u001b[0;34m\u001b[0m\n\u001b[1;32m      9\u001b[0m     \u001b[0;32mif\u001b[0m \u001b[0mret\u001b[0m \u001b[0;34m:\u001b[0m\u001b[0;34m\u001b[0m\u001b[0;34m\u001b[0m\u001b[0m\n\u001b[1;32m     10\u001b[0m         \u001b[0mframe\u001b[0m \u001b[0;34m=\u001b[0m \u001b[0mcv2\u001b[0m\u001b[0;34m.\u001b[0m\u001b[0mresize\u001b[0m\u001b[0;34m(\u001b[0m\u001b[0mframe\u001b[0m\u001b[0;34m,\u001b[0m \u001b[0mdsize\u001b[0m\u001b[0;34m=\u001b[0m\u001b[0;34m(\u001b[0m\u001b[0;36m0\u001b[0m\u001b[0;34m,\u001b[0m \u001b[0;36m0\u001b[0m\u001b[0;34m)\u001b[0m\u001b[0;34m,\u001b[0m \u001b[0mfx\u001b[0m\u001b[0;34m=\u001b[0m\u001b[0;36m0.5\u001b[0m\u001b[0;34m,\u001b[0m \u001b[0mfy\u001b[0m\u001b[0;34m=\u001b[0m\u001b[0;36m0.5\u001b[0m\u001b[0;34m)\u001b[0m\u001b[0;34m\u001b[0m\u001b[0;34m\u001b[0m\u001b[0m\n\u001b[0;32m---> 11\u001b[0;31m         \u001b[0mframe\u001b[0m \u001b[0;34m=\u001b[0m \u001b[0mdetector\u001b[0m\u001b[0;34m.\u001b[0m\u001b[0mdetect\u001b[0m\u001b[0;34m(\u001b[0m\u001b[0mframe\u001b[0m\u001b[0;34m)\u001b[0m\u001b[0;34m\u001b[0m\u001b[0;34m\u001b[0m\u001b[0m\n\u001b[0m\u001b[1;32m     12\u001b[0m         \u001b[0mout_yolo5face\u001b[0m\u001b[0;34m.\u001b[0m\u001b[0mwrite\u001b[0m\u001b[0;34m(\u001b[0m\u001b[0mframe\u001b[0m\u001b[0;34m)\u001b[0m\u001b[0;34m\u001b[0m\u001b[0;34m\u001b[0m\u001b[0m\n\u001b[1;32m     13\u001b[0m     \u001b[0;32melse\u001b[0m \u001b[0;34m:\u001b[0m\u001b[0;34m\u001b[0m\u001b[0;34m\u001b[0m\u001b[0m\n",
      "\u001b[0;32m~/shared_work/RT-LW-FaceDetection/src/ULFGFD_module.py\u001b[0m in \u001b[0;36mdetect\u001b[0;34m(self, image)\u001b[0m\n\u001b[1;32m     42\u001b[0m     \u001b[0;32mdef\u001b[0m \u001b[0mdetect\u001b[0m\u001b[0;34m(\u001b[0m\u001b[0mself\u001b[0m\u001b[0;34m,\u001b[0m\u001b[0mimage\u001b[0m\u001b[0;34m)\u001b[0m\u001b[0;34m:\u001b[0m\u001b[0;34m\u001b[0m\u001b[0;34m\u001b[0m\u001b[0m\n\u001b[1;32m     43\u001b[0m         \u001b[0;31m#image = cv2.cvtColor(image, cv2.COLOR_BGR2RGB)\u001b[0m\u001b[0;34m\u001b[0m\u001b[0;34m\u001b[0m\u001b[0;34m\u001b[0m\u001b[0m\n\u001b[0;32m---> 44\u001b[0;31m         \u001b[0mboxes\u001b[0m\u001b[0;34m,\u001b[0m \u001b[0mlabels\u001b[0m\u001b[0;34m,\u001b[0m \u001b[0mprobs\u001b[0m \u001b[0;34m=\u001b[0m \u001b[0mself\u001b[0m\u001b[0;34m.\u001b[0m\u001b[0mpredictor\u001b[0m\u001b[0;34m.\u001b[0m\u001b[0mpredict\u001b[0m\u001b[0;34m(\u001b[0m\u001b[0mimage\u001b[0m\u001b[0;34m,\u001b[0m \u001b[0mself\u001b[0m\u001b[0;34m.\u001b[0m\u001b[0mcandidate_size\u001b[0m \u001b[0;34m/\u001b[0m \u001b[0;36m2\u001b[0m\u001b[0;34m,\u001b[0m \u001b[0mself\u001b[0m\u001b[0;34m.\u001b[0m\u001b[0mthreshold\u001b[0m\u001b[0;34m)\u001b[0m\u001b[0;34m\u001b[0m\u001b[0;34m\u001b[0m\u001b[0m\n\u001b[0m\u001b[1;32m     45\u001b[0m         \u001b[0;32mfor\u001b[0m \u001b[0mi\u001b[0m \u001b[0;32min\u001b[0m \u001b[0mrange\u001b[0m\u001b[0;34m(\u001b[0m\u001b[0mboxes\u001b[0m\u001b[0;34m.\u001b[0m\u001b[0msize\u001b[0m\u001b[0;34m(\u001b[0m\u001b[0;36m0\u001b[0m\u001b[0;34m)\u001b[0m\u001b[0;34m)\u001b[0m\u001b[0;34m:\u001b[0m\u001b[0;34m\u001b[0m\u001b[0;34m\u001b[0m\u001b[0m\n\u001b[1;32m     46\u001b[0m             \u001b[0mbox\u001b[0m \u001b[0;34m=\u001b[0m \u001b[0mboxes\u001b[0m\u001b[0;34m[\u001b[0m\u001b[0mi\u001b[0m\u001b[0;34m,\u001b[0m \u001b[0;34m:\u001b[0m\u001b[0;34m]\u001b[0m\u001b[0;34m\u001b[0m\u001b[0;34m\u001b[0m\u001b[0m\n",
      "\u001b[0;32m~/shared_work/RT-LW-FaceDetection/src/./ULFGFD/vision/ssd/predictor.py\u001b[0m in \u001b[0;36mpredict\u001b[0;34m(self, image, top_k, prob_threshold)\u001b[0m\n\u001b[1;32m     36\u001b[0m             \u001b[0;32mfor\u001b[0m \u001b[0mi\u001b[0m \u001b[0;32min\u001b[0m \u001b[0mrange\u001b[0m\u001b[0;34m(\u001b[0m\u001b[0;36m1\u001b[0m\u001b[0;34m)\u001b[0m\u001b[0;34m:\u001b[0m\u001b[0;34m\u001b[0m\u001b[0;34m\u001b[0m\u001b[0m\n\u001b[1;32m     37\u001b[0m                 \u001b[0mself\u001b[0m\u001b[0;34m.\u001b[0m\u001b[0mtimer\u001b[0m\u001b[0;34m.\u001b[0m\u001b[0mstart\u001b[0m\u001b[0;34m(\u001b[0m\u001b[0;34m)\u001b[0m\u001b[0;34m\u001b[0m\u001b[0;34m\u001b[0m\u001b[0m\n\u001b[0;32m---> 38\u001b[0;31m                 \u001b[0mscores\u001b[0m\u001b[0;34m,\u001b[0m \u001b[0mboxes\u001b[0m \u001b[0;34m=\u001b[0m \u001b[0mself\u001b[0m\u001b[0;34m.\u001b[0m\u001b[0mnet\u001b[0m\u001b[0;34m.\u001b[0m\u001b[0mforward\u001b[0m\u001b[0;34m(\u001b[0m\u001b[0mimages\u001b[0m\u001b[0;34m)\u001b[0m\u001b[0;34m\u001b[0m\u001b[0;34m\u001b[0m\u001b[0m\n\u001b[0m\u001b[1;32m     39\u001b[0m                 \u001b[0mprint\u001b[0m\u001b[0;34m(\u001b[0m\u001b[0;34m\"Inference time: \"\u001b[0m\u001b[0;34m,\u001b[0m \u001b[0mself\u001b[0m\u001b[0;34m.\u001b[0m\u001b[0mtimer\u001b[0m\u001b[0;34m.\u001b[0m\u001b[0mend\u001b[0m\u001b[0;34m(\u001b[0m\u001b[0;34m)\u001b[0m\u001b[0;34m)\u001b[0m\u001b[0;34m\u001b[0m\u001b[0;34m\u001b[0m\u001b[0m\n\u001b[1;32m     40\u001b[0m         \u001b[0mboxes\u001b[0m \u001b[0;34m=\u001b[0m \u001b[0mboxes\u001b[0m\u001b[0;34m[\u001b[0m\u001b[0;36m0\u001b[0m\u001b[0;34m]\u001b[0m\u001b[0;34m\u001b[0m\u001b[0;34m\u001b[0m\u001b[0m\n",
      "\u001b[0;32m~/shared_work/RT-LW-FaceDetection/src/./ULFGFD/vision/ssd/ssd.py\u001b[0m in \u001b[0;36mforward\u001b[0;34m(self, x)\u001b[0m\n\u001b[1;32m     96\u001b[0m         \u001b[0;32mif\u001b[0m \u001b[0mself\u001b[0m\u001b[0;34m.\u001b[0m\u001b[0mis_test\u001b[0m\u001b[0;34m:\u001b[0m\u001b[0;34m\u001b[0m\u001b[0;34m\u001b[0m\u001b[0m\n\u001b[1;32m     97\u001b[0m             \u001b[0mconfidences\u001b[0m \u001b[0;34m=\u001b[0m \u001b[0mF\u001b[0m\u001b[0;34m.\u001b[0m\u001b[0msoftmax\u001b[0m\u001b[0;34m(\u001b[0m\u001b[0mconfidences\u001b[0m\u001b[0;34m,\u001b[0m \u001b[0mdim\u001b[0m\u001b[0;34m=\u001b[0m\u001b[0;36m2\u001b[0m\u001b[0;34m)\u001b[0m\u001b[0;34m\u001b[0m\u001b[0;34m\u001b[0m\u001b[0m\n\u001b[0;32m---> 98\u001b[0;31m             boxes = box_utils.convert_locations_to_boxes(\n\u001b[0m\u001b[1;32m     99\u001b[0m                 \u001b[0;31m#locations, self.priors, self.config.center_variance, self.config.size_variance\u001b[0m\u001b[0;34m\u001b[0m\u001b[0;34m\u001b[0m\u001b[0;34m\u001b[0m\u001b[0m\n\u001b[1;32m    100\u001b[0m                 \u001b[0mlocations\u001b[0m\u001b[0;34m\u001b[0m\u001b[0;34m\u001b[0m\u001b[0m\n",
      "\u001b[0;31mTypeError\u001b[0m: convert_locations_to_boxes() missing 3 required positional arguments: 'priors', 'center_variance', and 'size_variance'"
     ]
    }
   ],
   "source": [
    "## ULFGFD\n",
    "vid = cv2.VideoCapture(path)\n",
    "\n",
    "out_ULFGFD = cv2.VideoWriter('ULFGFD.avi', fourcc, 20.0, (int(width*0.5),int(height*0.5)))\n",
    "detector = ULFGFD()\n",
    "t.tic()\n",
    "while(vid.isOpened()):\n",
    "    ret,frame = vid.read()\n",
    "    if ret :\n",
    "        frame = cv2.resize(frame, dsize=(0, 0), fx=0.5, fy=0.5)\n",
    "        frame = detector.detect(frame)\n",
    "        out_yolo5face.write(frame)\n",
    "    else :\n",
    "        break\n",
    "t.toc()\n",
    "vid.release()\n",
    "out_ULFGFD.release()"
   ]
  },
  {
   "cell_type": "code",
   "execution_count": null,
   "id": "36a03c87-0774-4a1a-9452-378337752c48",
   "metadata": {},
   "outputs": [],
   "source": [
    "## # YOLO5-Face(m) : cuda\n",
    "\n",
    "vid = cv2.VideoCapture(path)\n",
    "\n",
    "name_model = \"yolov5m-face.pt\"\n",
    "out_yolo5face = cv2.VideoWriter('yolo5m.avi', fourcc, 20.0, (int(width*0.5),int(height*0.5)))\n",
    "yolo5face = YOLO5face_detector(root_pretrained+name_model,device)\n",
    "t.tic()\n",
    "while(vid.isOpened()):\n",
    "    ret,frame = vid.read()\n",
    "    if ret :\n",
    "        frame = cv2.resize(frame, dsize=(0, 0), fx=0.5, fy=0.5)\n",
    "        frame = yolo5face.detect(frame)\n",
    "        out_yolo5face.write(frame)\n",
    "    else :\n",
    "        break\n",
    "t.toc()\n",
    "vid.release()\n",
    "out_yolo5face.release()"
   ]
  },
  {
   "cell_type": "markdown",
   "id": "4345d53d-5182-4242-9dfe-79d75e28325f",
   "metadata": {},
   "source": [
    "# YOLO5s : cuda"
   ]
  },
  {
   "cell_type": "code",
   "execution_count": null,
   "id": "ba8ddde9-886a-4f58-853b-eb8f701415c0",
   "metadata": {},
   "outputs": [],
   "source": [
    "vid = cv2.VideoCapture(path)\n",
    "\n",
    "name_model = \"yolov5s-face.pt\"\n",
    "out_yolo5face = cv2.VideoWriter('yolo5s.avi', fourcc, 20.0, (int(width*0.5),int(height*0.5)))\n",
    "yolo5face = YOLO5face_detector(root_pretrained+name_model,device)\n",
    "t.tic()\n",
    "while(vid.isOpened()):\n",
    "    ret,frame = vid.read()\n",
    "    if ret :\n",
    "        frame = cv2.resize(frame, dsize=(0, 0), fx=0.5, fy=0.5)\n",
    "        frame = yolo5face.detect(frame)\n",
    "        out_yolo5face.write(frame)\n",
    "    else :\n",
    "        break\n",
    "t.toc()\n",
    "vid.release()\n",
    "out_yolo5face.release()"
   ]
  },
  {
   "cell_type": "markdown",
   "id": "4d0dc18a-6681-4b1f-a9b0-7f427bfc15a7",
   "metadata": {},
   "source": [
    "# YOLO5n : cuda"
   ]
  },
  {
   "cell_type": "code",
   "execution_count": null,
   "id": "bcc790b5-5978-4d67-ac7c-873ea623ec10",
   "metadata": {},
   "outputs": [],
   "source": [
    "vid = cv2.VideoCapture(path)\n",
    "\n",
    "name_model = \"yolov5n-face.pt\"\n",
    "out_yolo5face = cv2.VideoWriter('yolov5n.avi', fourcc, 20.0, (int(width*0.5),int(height*0.5)))\n",
    "yolo5face = YOLO5face_detector(root_pretrained+name_model,device)\n",
    "t.tic()\n",
    "while(vid.isOpened()):\n",
    "    ret,frame = vid.read()\n",
    "    if ret :\n",
    "        frame = cv2.resize(frame, dsize=(0, 0), fx=0.5, fy=0.5)\n",
    "        frame = yolo5face.detect(frame)\n",
    "        out_yolo5face.write(frame)\n",
    "    else :\n",
    "        break\n",
    "t.toc()\n",
    "vid.release()\n",
    "out_yolo5face.release()\n"
   ]
  },
  {
   "cell_type": "markdown",
   "id": "2cf4712a-f900-48c6-9502-cc7413b4b100",
   "metadata": {
    "tags": []
   },
   "source": [
    "# YOLO5n05 : cuda"
   ]
  },
  {
   "cell_type": "code",
   "execution_count": null,
   "id": "bffc2e12-d086-4498-874e-bc31710f0053",
   "metadata": {},
   "outputs": [],
   "source": [
    "vid = cv2.VideoCapture(path)\n",
    "\n",
    "name_model = \"yolov5n-0.5.pt\"\n",
    "out_yolo5face = cv2.VideoWriter('yolov5n05.avi', fourcc, 20.0, (int(width*0.5),int(height*0.5)))\n",
    "yolo5face = YOLO5face_detector(root_pretrained+name_model,device)\n",
    "t.tic()\n",
    "while(vid.isOpened()):\n",
    "    ret,frame = vid.read()\n",
    "    if ret :\n",
    "        frame = cv2.resize(frame, dsize=(0, 0), fx=0.5, fy=0.5)\n",
    "        frame = yolo5face.detect(frame)\n",
    "        out_yolo5face.write(frame)\n",
    "    else :\n",
    "        break\n",
    "t.toc()\n",
    "vid.release()\n",
    "out_yolo5face.release()\n",
    "Video('./yolov5n05.avi')"
   ]
  },
  {
   "cell_type": "code",
   "execution_count": null,
   "id": "5c26b6e9-785d-4f5c-a27e-62444fabf187",
   "metadata": {},
   "outputs": [],
   "source": [
    "## haar : 1 core cpu\n",
    "\n",
    "vid = cv2.VideoCapture(path)\n",
    "\n",
    "out_harr = cv2.VideoWriter('yolo5face.avi', fourcc, 20.0, (int(width*0.5),int(height*0.5)))\n",
    "haar = opencv_haar()\n",
    "t.tic()\n",
    "while(vid.isOpened()):\n",
    "    ret,frame = vid.read()\n",
    "    if ret :\n",
    "        frame = cv2.resize(frame, dsize=(0, 0), fx=0.5, fy=0.5)\n",
    "        frame = haar.detect(frame)\n",
    "        out_harr.write(frame)\n",
    "    else :\n",
    "        break\n",
    "t.toc()\n",
    "vid.release()\n",
    "out_harr.release()"
   ]
  },
  {
   "cell_type": "code",
   "execution_count": null,
   "id": "edf530e0-ef52-4549-ab48-4567d1e69533",
   "metadata": {},
   "outputs": [],
   "source": [
    "## DSFD\n",
    "\n",
    "vid = cv2.VideoCapture(path)\n",
    "\n",
    "out_dsfd = cv2.VideoWriter('dsfd.avi', fourcc, 20.0, (int(width*0.5),int(height*0.5)))\n",
    "dsfd = DSFD()\n",
    "t.tic()\n",
    "while(vid.isOpened()):\n",
    "    ret,frame = vid.read()\n",
    "    if ret :\n",
    "        frame = cv2.resize(frame, dsize=(0, 0), fx=0.5, fy=0.5)\n",
    "        frame = dsfd.detect(frame)\n",
    "        break\n",
    "        out_harr.write(frame)\n",
    "    else :\n",
    "        break\n",
    "t.toc()\n",
    "vid.release()\n",
    "out_dsfd.release()\n",
    "\n",
    "Video('./dsfd.avi')"
   ]
  },
  {
   "cell_type": "code",
   "execution_count": null,
   "id": "4011c1e7-5bbe-4f78-b69a-0823563b5092",
   "metadata": {},
   "outputs": [],
   "source": []
  }
 ],
 "metadata": {
  "kernelspec": {
   "display_name": "Python 3 (ipykernel)",
   "language": "python",
   "name": "python3"
  },
  "language_info": {
   "codemirror_mode": {
    "name": "ipython",
    "version": 3
   },
   "file_extension": ".py",
   "mimetype": "text/x-python",
   "name": "python",
   "nbconvert_exporter": "python",
   "pygments_lexer": "ipython3",
   "version": "3.9.6"
  }
 },
 "nbformat": 4,
 "nbformat_minor": 5
}
