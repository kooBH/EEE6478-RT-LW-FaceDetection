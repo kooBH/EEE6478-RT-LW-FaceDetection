{
 "cells": [
  {
   "cell_type": "code",
   "execution_count": 1,
   "id": "5be1472a-b039-42fa-a195-520996865ea8",
   "metadata": {},
   "outputs": [
    {
     "name": "stdout",
     "output_type": "stream",
     "text": [
      "['/home/kbh/shared_work/RT-LW-FaceDetection', '/home/kbh/.conda/envs/dnn/lib/python38.zip', '/home/kbh/.conda/envs/dnn/lib/python3.8', '/home/kbh/.conda/envs/dnn/lib/python3.8/lib-dynload', '', '/home/kbh/.conda/envs/dnn/lib/python3.8/site-packages', '/home/kbh/.conda/envs/dnn/lib/python3.8/site-packages/IPython/extensions', '/home/kbh/.ipython', '/home/kbh/shared_work/RT-LW-FaceDetection/external/DSFD']\n"
     ]
    }
   ],
   "source": [
    "from external.module_DSFD import DSFD"
   ]
  },
  {
   "cell_type": "code",
   "execution_count": null,
   "id": "c22cc715-b9d2-40db-9cc9-6d6b913b7085",
   "metadata": {},
   "outputs": [],
   "source": []
  }
 ],
 "metadata": {
  "kernelspec": {
   "display_name": "Python 3 (ipykernel)",
   "language": "python",
   "name": "python3"
  },
  "language_info": {
   "codemirror_mode": {
    "name": "ipython",
    "version": 3
   },
   "file_extension": ".py",
   "mimetype": "text/x-python",
   "name": "python",
   "nbconvert_exporter": "python",
   "pygments_lexer": "ipython3",
   "version": "3.8.10"
  }
 },
 "nbformat": 4,
 "nbformat_minor": 5
}
